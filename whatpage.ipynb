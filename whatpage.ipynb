{
 "cells": [
  {
   "cell_type": "code",
   "execution_count": 1,
   "id": "95c4277a-97e2-4c92-9534-c5b28b765994",
   "metadata": {},
   "outputs": [],
   "source": [
    "from union_rep_assistant.brain import UnionRep\n",
    "from langgraph.checkpoint.memory import MemorySaver\n",
    "from langgraph.graph import START, MessagesState, StateGraph\n",
    "from langchain.schema import messages_from_dict, messages_to_dict, HumanMessage # Used for handling messages"
   ]
  },
  {
   "cell_type": "code",
   "execution_count": 2,
   "id": "01abe10c-87cf-41e1-b22e-1e929ea8d65a",
   "metadata": {},
   "outputs": [],
   "source": [
    "from typing import Literal\n",
    "from langchain_core.tools import tool\n",
    "\n",
    "from langgraph.checkpoint.memory import MemorySaver\n",
    "from langgraph.graph import MessagesState, StateGraph, START, END\n",
    "from langgraph.prebuilt import ToolNode\n"
   ]
  },
  {
   "cell_type": "code",
   "execution_count": 3,
   "id": "d87fe03b-3188-4d21-9745-43b8c9fb76e9",
   "metadata": {},
   "outputs": [],
   "source": []
  },
  {
   "cell_type": "code",
   "execution_count": 4,
   "id": "81b204f8-1a8d-44c4-a4c0-e1c8de5ee6aa",
   "metadata": {},
   "outputs": [
    {
     "name": "stderr",
     "output_type": "stream",
     "text": [
      "INFO:faiss.loader:Loading faiss with AVX2 support.\n",
      "INFO:faiss.loader:Successfully loaded faiss with AVX2 support.\n"
     ]
    }
   ],
   "source": [
    "union_rep = UnionRep(\n",
    "    model = \"gpt-4o-mini\",\n",
    "    temperature=0,\n",
    "    openai_api_key=api_key,\n",
    "    top_k = 3\n",
    ")"
   ]
  },
  {
   "cell_type": "code",
   "execution_count": 5,
   "id": "f2b5a4e2-f1e8-4b5b-b54f-e86c609b6fe9",
   "metadata": {
    "scrolled": true
   },
   "outputs": [
    {
     "name": "stderr",
     "output_type": "stream",
     "text": [
      "INFO:union_rep_assistant.brain:question asked: how many days do I have off\n",
      "INFO:httpx:HTTP Request: POST https://api.openai.com/v1/embeddings \"HTTP/1.1 200 OK\"\n",
      "INFO:union_rep_assistant.brain:context provided to question: [Document(id='a15dd4ac-737c-48c9-92b3-10a7e3eb1020', metadata={'page_number': 29}, page_content=\"15.5 All employees (with the exception of employees covered under the economic terms of the 2024 RAB Commercial Agreement) shall receive two (2) personal days in each contract year. These personal days are in addition to the holidays listed in Article 15.1 above. Employees may select such days off on five (5) days' notice to the Employer provided such selection does not result in a reduction of employees in the building below seventy-five (75%) percent of the normal work staff. Such selection shall be made in accordance with seniority.\\n\\n15.6 Upon request and in accordance with the terms of Section 15.5, supra, employees shall be allowed to use a personal day from their annual allotment to observe Juneteenth.\\n\\nArticle XVI - Sick Leave\"), Document(id='70eb1636-6080-4cb8-8ee4-34c19ec35a38', metadata={'page_number': 29}, page_content='Article XVI - Sick Leave\\n\\n16.1. Regular employees with at least one (1) year of service shall receive five (5) days sick leave in a calendar year (January 1 – December 31). Newly-hired regular employees will be entitled to accrue one (1) hour of sick leave for every thirty (30) hours worked, up to a maximum of five (5) days or forty (40) hours of sick leave in their first year of employment during the calendar year. Thereafter, each employee will receive their five (5) days sick leave on January 1. Employees who have passed the third anniversary of their employment date with the'), Document(id='69cb613c-7d71-4462-929a-da7e539b5c8a', metadata={'page_number': 30}, page_content='Employer will receive six (6) days sick leave in a calendar year, commencing in the calendar year following the employee’s third anniversary of employment date. Such sick leave may be used for bona fide illness or injury, or to attend a doctor’s appointment or any other reason consistent with the New York City Earned Safe and Sick Time Act.\\n\\n16.2. To receive paid sick leave, an eligible employee must notify their supervisor of their inability to report to work as scheduled at least two (2) hours prior to the employee’s scheduled starting time.\\n\\n16.3. Sick leave not used by the end of the year shall not be carried over to the following year, but will be paid to the employee following the end of the calendar year.')]\n",
      "INFO:httpx:HTTP Request: POST https://api.openai.com/v1/chat/completions \"HTTP/1.1 200 OK\"\n"
     ]
    }
   ],
   "source": [
    "response = union_rep.ask(\"how many days do I have off\")"
   ]
  },
  {
   "cell_type": "code",
   "execution_count": 6,
   "id": "3dd2e9cf-ef40-42d7-a1ac-26a981b82257",
   "metadata": {},
   "outputs": [
    {
     "data": {
      "text/plain": [
       "'---\\nResponse: You have two (2) personal days off in each contract year, in addition to five (5) days of sick leave if you have at least one year of service.\\nSources: \"15.5 All employees... shall receive two (2) personal days in each contract year.\" and \"16.1. Regular employees with at least one (1) year of service shall receive five (5) days sick leave in a calendar year.\"\\nContract Page: 29\\n---'"
      ]
     },
     "execution_count": 6,
     "metadata": {},
     "output_type": "execute_result"
    }
   ],
   "source": [
    "response"
   ]
  },
  {
   "cell_type": "code",
   "execution_count": 8,
   "id": "6750a165-efaf-4858-afc8-17aa3bda72b1",
   "metadata": {},
   "outputs": [
    {
     "name": "stderr",
     "output_type": "stream",
     "text": [
      "INFO:union_rep_assistant.brain:question asked: what was my last question?\n",
      "INFO:httpx:HTTP Request: POST https://api.openai.com/v1/embeddings \"HTTP/1.1 200 OK\"\n",
      "INFO:union_rep_assistant.brain:context provided to question: [Document(id='afc2543e-2cfe-4400-bbc8-dccea200540c', metadata={'page_number': 3}, page_content='TABLE OF CONTENTS'), Document(id='e9689f06-7b52-49d7-946b-1f413a5f7be7', metadata={'page_number': 51}, page_content='May 1, 2024\\n\\nManny Pastreich, President  \\nSEIU, Local 32BJ  \\n25 West 18th Street  \\nNew York, NY 10011  \\n\\nRe: Reserved Question on Mandatory Arbitration for Statutory Discrimination Claims  \\n\\nDear Manny:\\n\\nThis letter will confirm our understanding on the issue of whether arbitration is mandatory for statutory discrimination claims brought under the No Discrimination Clause found in the Collective Bargaining Agreements (“CBAs”) between the RAB and the Union (the “Reserved Question”).\\n\\nFollowing the decision of the Supreme Court in 14 Penn Plaza LLC v. Pyett, 556 U.S. 247 (2009), the RAB and the Union have had a dispute about the Reserved Question, specifically regarding the meaning of the No Discrimination Clause and the grievance and arbitration clauses in the CBAs. The Reserved Question is as follows:'), Document(id='a7bd42c5-6897-4bf9-8519-fbc6ab331826', metadata={'page_number': 51}, page_content='The parties agree that, should either the Union or the RAB deem it appropriate or necessary to do so, that party may bring to arbitration the Reserved Question. The parties intend that the Reserved Question may only be resolved in arbitration between them and not in any form of judicial or administrative proceeding. The outcome of the Reserved Question hinges on collective bargaining language and bargaining history, which are subjects properly suited for arbitration. Such arbitration may be commenced on 30 calendar days’ written notice to the other party. The arbitrator for such  \\n\\n48')]\n"
     ]
    },
    {
     "name": "stdout",
     "output_type": "stream",
     "text": [
      "Page In Contract 3: TABLE OF CONTENTS\n",
      "\n",
      "Page In Contract 51: May 1, 2024\n",
      "\n",
      "Manny Pastreich, President  \n",
      "SEIU, Local 32BJ  \n",
      "25 West 18th Street  \n",
      "New York, NY 10011  \n",
      "\n",
      "Re: Reserved Question on Mandatory Arbitration for Statutory Discrimination Claims  \n",
      "\n",
      "Dear Manny:\n",
      "\n",
      "This letter will confirm our understanding on the issue of whether arbitration is mandatory for statutory discrimination claims brought under the No Discrimination Clause found in the Collective Bargaining Agreements (“CBAs”) between the RAB and the Union (the “Reserved Question”).\n",
      "\n",
      "Following the decision of the Supreme Court in 14 Penn Plaza LLC v. Pyett, 556 U.S. 247 (2009), the RAB and the Union have had a dispute about the Reserved Question, specifically regarding the meaning of the No Discrimination Clause and the grievance and arbitration clauses in the CBAs. The Reserved Question is as follows:\n",
      "\n",
      "Page In Contract 51: The parties agree that, should either the Union or the RAB deem it appropriate or necessary to do so, that party may bring to arbitration the Reserved Question. The parties intend that the Reserved Question may only be resolved in arbitration between them and not in any form of judicial or administrative proceeding. The outcome of the Reserved Question hinges on collective bargaining language and bargaining history, which are subjects properly suited for arbitration. Such arbitration may be commenced on 30 calendar days’ written notice to the other party. The arbitrator for such  \n",
      "\n",
      "48\n"
     ]
    },
    {
     "name": "stderr",
     "output_type": "stream",
     "text": [
      "INFO:httpx:HTTP Request: POST https://api.openai.com/v1/chat/completions \"HTTP/1.1 200 OK\"\n"
     ]
    },
    {
     "data": {
      "text/plain": [
       "'---\\nResponse: Your last question was \"how many days do I have off.\"\\nSources: \\n\"how many days do I have off\" (ChatHistory)\\n---'"
      ]
     },
     "execution_count": 8,
     "metadata": {},
     "output_type": "execute_result"
    }
   ],
   "source": [
    "union_rep.ask(\"what was my last question?\")"
   ]
  },
  {
   "cell_type": "code",
   "execution_count": null,
   "id": "fe41c258-dbd2-449c-8456-30fd7ce1cfa1",
   "metadata": {},
   "outputs": [],
   "source": [
    "# maybe its hallucinating? \n",
    "# maybe need a tool to figure this out. "
   ]
  }
 ],
 "metadata": {
  "kernelspec": {
   "display_name": "Python 3 (ipykernel)",
   "language": "python",
   "name": "python3"
  },
  "language_info": {
   "codemirror_mode": {
    "name": "ipython",
    "version": 3
   },
   "file_extension": ".py",
   "mimetype": "text/x-python",
   "name": "python",
   "nbconvert_exporter": "python",
   "pygments_lexer": "ipython3",
   "version": "3.12.4"
  }
 },
 "nbformat": 4,
 "nbformat_minor": 5
}
